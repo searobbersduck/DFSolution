{
 "cells": [
  {
   "cell_type": "code",
   "execution_count": 1,
   "metadata": {},
   "outputs": [],
   "source": [
    "import pandas as pd"
   ]
  },
  {
   "cell_type": "code",
   "execution_count": 7,
   "metadata": {},
   "outputs": [],
   "source": [
    "train_data = 'C:\\\\Users\\\\bai\\\\Downloads\\\\Train\\\\Train_DataSet.csv'\n",
    "label_data = 'C:\\\\Users\\\\bai\\\\Downloads\\\\Train\\\\Train_DataSet_Label.csv'\n",
    "train_df = pd.read_csv(train_data)\n",
    "label_df = pd.read_csv(label_data)"
   ]
  },
  {
   "cell_type": "code",
   "execution_count": 8,
   "metadata": {},
   "outputs": [
    {
     "data": {
      "text/html": [
       "<div>\n",
       "<style scoped>\n",
       "    .dataframe tbody tr th:only-of-type {\n",
       "        vertical-align: middle;\n",
       "    }\n",
       "\n",
       "    .dataframe tbody tr th {\n",
       "        vertical-align: top;\n",
       "    }\n",
       "\n",
       "    .dataframe thead th {\n",
       "        text-align: right;\n",
       "    }\n",
       "</style>\n",
       "<table border=\"1\" class=\"dataframe\">\n",
       "  <thead>\n",
       "    <tr style=\"text-align: right;\">\n",
       "      <th></th>\n",
       "      <th>id</th>\n",
       "      <th>title</th>\n",
       "      <th>content</th>\n",
       "    </tr>\n",
       "  </thead>\n",
       "  <tbody>\n",
       "    <tr>\n",
       "      <th>0</th>\n",
       "      <td>7a3dd79f90ee419da87190cff60f7a86</td>\n",
       "      <td>问责领导(上黄镇党委书记张涛，宣国才真能一手遮天吗？)</td>\n",
       "      <td>这几天看了有人举报施某某的贴子，经与举报人联系证实，是宣某当天中午请举报人和枪手喝酒后，晚上...</td>\n",
       "    </tr>\n",
       "    <tr>\n",
       "      <th>1</th>\n",
       "      <td>7640a5589bc7486ca199eeeb38af79dd</td>\n",
       "      <td>江歌事件:教会孩子，善良的同时更要懂得保护自己!</td>\n",
       "      <td>过去一年的江歌悲剧，这几日再次刷屏：住在东京都中野区的中国女留学生江歌，收留了被前男友陈世锋...</td>\n",
       "    </tr>\n",
       "    <tr>\n",
       "      <th>2</th>\n",
       "      <td>8c5bda93e4ba401f90a0faa5b28fe57f</td>\n",
       "      <td>绝味鸭脖广告\"开黄腔\"引众怒 \"双11\"这么拼值吗?</td>\n",
       "      <td>“双11”1600亿的销售额让中国乃至全世界感到震惊，为此，不仅有不惜欠债百万的“剁手党”，...</td>\n",
       "    </tr>\n",
       "    <tr>\n",
       "      <th>3</th>\n",
       "      <td>1aa777fed31a4b8a9d866f05b5477557</td>\n",
       "      <td>央视曝光!如东一医药企业将槽罐车改成垃圾车，夜间偷排高浓度废水</td>\n",
       "      <td>2016年以来，如东高新区一家叫做拜瑞生物医药的企业竟然将装废水的槽罐车伪装成洒水车，常年在...</td>\n",
       "    </tr>\n",
       "    <tr>\n",
       "      <th>4</th>\n",
       "      <td>6c67ac55360340258e157f3710ebae6c</td>\n",
       "      <td>恶劣至极，央视都曝光了!南通如东一医药企业将槽罐车改成洒水车，夜间偷排高浓度废水...丢大发了!</td>\n",
       "      <td>新闻资讯•民生热点•城市生活•南通人都在看浏览更多资讯请关注微信公众号:南通传媒网昨晚央视一...</td>\n",
       "    </tr>\n",
       "  </tbody>\n",
       "</table>\n",
       "</div>"
      ],
      "text/plain": [
       "                                 id  \\\n",
       "0  7a3dd79f90ee419da87190cff60f7a86   \n",
       "1  7640a5589bc7486ca199eeeb38af79dd   \n",
       "2  8c5bda93e4ba401f90a0faa5b28fe57f   \n",
       "3  1aa777fed31a4b8a9d866f05b5477557   \n",
       "4  6c67ac55360340258e157f3710ebae6c   \n",
       "\n",
       "                                              title  \\\n",
       "0                       问责领导(上黄镇党委书记张涛，宣国才真能一手遮天吗？)   \n",
       "1                          江歌事件:教会孩子，善良的同时更要懂得保护自己!   \n",
       "2                        绝味鸭脖广告\"开黄腔\"引众怒 \"双11\"这么拼值吗?   \n",
       "3                   央视曝光!如东一医药企业将槽罐车改成垃圾车，夜间偷排高浓度废水   \n",
       "4  恶劣至极，央视都曝光了!南通如东一医药企业将槽罐车改成洒水车，夜间偷排高浓度废水...丢大发了!   \n",
       "\n",
       "                                             content  \n",
       "0  这几天看了有人举报施某某的贴子，经与举报人联系证实，是宣某当天中午请举报人和枪手喝酒后，晚上...  \n",
       "1  过去一年的江歌悲剧，这几日再次刷屏：住在东京都中野区的中国女留学生江歌，收留了被前男友陈世锋...  \n",
       "2  “双11”1600亿的销售额让中国乃至全世界感到震惊，为此，不仅有不惜欠债百万的“剁手党”，...  \n",
       "3  2016年以来，如东高新区一家叫做拜瑞生物医药的企业竟然将装废水的槽罐车伪装成洒水车，常年在...  \n",
       "4  新闻资讯•民生热点•城市生活•南通人都在看浏览更多资讯请关注微信公众号:南通传媒网昨晚央视一...  "
      ]
     },
     "execution_count": 8,
     "metadata": {},
     "output_type": "execute_result"
    }
   ],
   "source": [
    "train_df.head()"
   ]
  },
  {
   "cell_type": "code",
   "execution_count": 9,
   "metadata": {},
   "outputs": [
    {
     "data": {
      "text/html": [
       "<div>\n",
       "<style scoped>\n",
       "    .dataframe tbody tr th:only-of-type {\n",
       "        vertical-align: middle;\n",
       "    }\n",
       "\n",
       "    .dataframe tbody tr th {\n",
       "        vertical-align: top;\n",
       "    }\n",
       "\n",
       "    .dataframe thead th {\n",
       "        text-align: right;\n",
       "    }\n",
       "</style>\n",
       "<table border=\"1\" class=\"dataframe\">\n",
       "  <thead>\n",
       "    <tr style=\"text-align: right;\">\n",
       "      <th></th>\n",
       "      <th>id</th>\n",
       "      <th>label</th>\n",
       "    </tr>\n",
       "  </thead>\n",
       "  <tbody>\n",
       "    <tr>\n",
       "      <th>0</th>\n",
       "      <td>7a3dd79f90ee419da87190cff60f7a86</td>\n",
       "      <td>2</td>\n",
       "    </tr>\n",
       "    <tr>\n",
       "      <th>1</th>\n",
       "      <td>7640a5589bc7486ca199eeeb38af79dd</td>\n",
       "      <td>1</td>\n",
       "    </tr>\n",
       "    <tr>\n",
       "      <th>2</th>\n",
       "      <td>8c5bda93e4ba401f90a0faa5b28fe57f</td>\n",
       "      <td>2</td>\n",
       "    </tr>\n",
       "    <tr>\n",
       "      <th>3</th>\n",
       "      <td>1aa777fed31a4b8a9d866f05b5477557</td>\n",
       "      <td>2</td>\n",
       "    </tr>\n",
       "    <tr>\n",
       "      <th>4</th>\n",
       "      <td>6c67ac55360340258e157f3710ebae6c</td>\n",
       "      <td>2</td>\n",
       "    </tr>\n",
       "  </tbody>\n",
       "</table>\n",
       "</div>"
      ],
      "text/plain": [
       "                                 id  label\n",
       "0  7a3dd79f90ee419da87190cff60f7a86      2\n",
       "1  7640a5589bc7486ca199eeeb38af79dd      1\n",
       "2  8c5bda93e4ba401f90a0faa5b28fe57f      2\n",
       "3  1aa777fed31a4b8a9d866f05b5477557      2\n",
       "4  6c67ac55360340258e157f3710ebae6c      2"
      ]
     },
     "execution_count": 9,
     "metadata": {},
     "output_type": "execute_result"
    }
   ],
   "source": [
    "label_df.head()"
   ]
  },
  {
   "cell_type": "code",
   "execution_count": 12,
   "metadata": {},
   "outputs": [
    {
     "data": {
      "text/plain": [
       "<matplotlib.axes._subplots.AxesSubplot at 0x25cd04f46d8>"
      ]
     },
     "execution_count": 12,
     "metadata": {},
     "output_type": "execute_result"
    },
    {
     "data": {
      "image/png": "[encoded data removed]",
      "text/plain": [
       "<Figure size 432x288 with 1 Axes>"
      ]
     },
     "metadata": {
      "needs_background": "light"
     },
     "output_type": "display_data"
    }
   ],
   "source": [
    "%matplotlib inline\n",
    "label_df['label'].value_counts().plot.bar()"
   ]
  },
  {
   "cell_type": "code",
   "execution_count": 30,
   "metadata": {},
   "outputs": [],
   "source": [
    "content_length_count = {0:0}\n",
    "for index, row in train_df.iterrows():\n",
    "    c_len = 0\n",
    "    if type(row['content']) != str:\n",
    "        content_length_count[0] += 1\n",
    "        continue\n",
    "    for x in row['content']:\n",
    "        c_len += 1\n",
    "    c_len = int(c_len / 100) + 1\n",
    "    if c_len not in content_length_count:\n",
    "        content_length_count[c_len] = 1\n",
    "    else:\n",
    "        content_length_count[c_len] += 1"
   ]
  },
  {
   "cell_type": "code",
   "execution_count": 31,
   "metadata": {},
   "outputs": [
    {
     "data": {
      "image/png": "[encoded data removed]",
      "text/plain": [
       "<Figure size 432x288 with 1 Axes>"
      ]
     },
     "metadata": {
      "needs_background": "light"
     },
     "output_type": "display_data"
    }
   ],
   "source": [
    "import matplotlib.pyplot as plt\n",
    "import collections\n",
    "%matplotlib inline\n",
    "\n",
    "\n",
    "content_length_count = collections.OrderedDict(content_length_count)\n",
    "plt.bar(range(len(content_length_count)), list(content_length_count.values()), align='center')\n",
    "plt.show()"
   ]
  },
  {
   "cell_type": "code",
   "execution_count": 20,
   "metadata": {},
   "outputs": [
    {
     "ename": "NameError",
     "evalue": "name 'content_length_count' is not defined",
     "traceback": [
      "\u001b[1;31m---------------------------------------------------------------------------\u001b[0m",
      "\u001b[1;31mNameError\u001b[0m                                 Traceback (most recent call last)",
      "\u001b[1;32m<ipython-input-20-509d87ae0db6>\u001b[0m in \u001b[0;36m<module>\u001b[1;34m\u001b[0m\n\u001b[1;32m----> 1\u001b[1;33m \u001b[0mcontent_length_count\u001b[0m\u001b[1;33m\u001b[0m\u001b[1;33m\u001b[0m\u001b[0m\n\u001b[0m",
      "\u001b[1;31mNameError\u001b[0m: name 'content_length_count' is not defined"
     ],
     "output_type": "error"
    }
   ],
   "source": [
    "content_length_count"
   ]
  },
  {
   "cell_type": "code",
   "execution_count": 16,
   "metadata": {},
   "outputs": [],
   "source": [
    "import pandas as pd\n",
    "import jieba\n",
    "def stopwordset(stopword_path):\n",
    "  stopwords = [line.strip() for line in open(stopword_path,encoding='UTF-8').readlines()]\n",
    "  return set(stopwords)\n",
    "\n",
    "\n",
    "def seg_sentence(sentence, stopwordlist):\n",
    "  sentence_depart = jieba.cut(sentence.strip())\n",
    "  seg_result = [x.strip() for x in sentence_depart if x not in stopwordlist]\n",
    "  seg_result = [x for x in seg_result if x]\n",
    "  return seg_result\n",
    "\n",
    "def gen_data_set(data_path, label_path, stopword_path):\n",
    "  stopwords = stopwordset(stopword_path)\n",
    "  data_df = pd.read_csv(data_path)\n",
    "  label_df = pd.read_csv(label_path)\n",
    "  label_map = {}\n",
    "  for index, row in label_df.iterrows():\n",
    "    label_map[row['id']] = row['label']\n",
    "\n",
    "  results = []\n",
    "  for index, row in data_df.iterrows():\n",
    "    content = row['content']\n",
    "    if not content or type(content) == float:\n",
    "      continue\n",
    "    seg_result = seg_sentence(content, stopwords)\n",
    "    label = label_map[row['id']]\n",
    "    results.append([seg_result, label])\n",
    "  return results"
   ]
  },
  {
   "cell_type": "code",
   "execution_count": 17,
   "metadata": {},
   "outputs": [],
   "source": [
    "results = gen_data_set('C:\\\\Users\\\\bai\\\\Downloads\\\\Train\\\\Train_DataSet.csv',  'C:\\\\Users\\\\bai\\\\Downloads\\\\Train\\\\Train_DataSet_Label.csv', 'C:\\\\Users\\\\bai\\\\Documents\\\\codebase\\\\DFSolution\\\\SentimentAnalysis\\\\stopwords.txt')"
   ]
  },
  {
   "cell_type": "code",
   "execution_count": 19,
   "metadata": {},
   "outputs": [
    {
     "data": {
      "text/plain": [
       "[['月',\n",
       "  '26',\n",
       "  '日',\n",
       "  '傍晚',\n",
       "  '点',\n",
       "  '30',\n",
       "  '分',\n",
       "  '大连',\n",
       "  '甘井子区',\n",
       "  '华北',\n",
       "  '路',\n",
       "  '周水子',\n",
       "  '立交桥',\n",
       "  '发生',\n",
       "  '意外事故',\n",
       "  '一位',\n",
       "  '行人',\n",
       "  '横穿',\n",
       "  '华北',\n",
       "  '路时',\n",
       "  '一辆',\n",
       "  '大客车',\n",
       "  '撞倒',\n",
       "  '事故现场',\n",
       "  '见到',\n",
       "  '有人',\n",
       "  '冒险',\n",
       "  '穿越',\n",
       "  '马路',\n",
       "  '网友',\n",
       "  '拍摄',\n",
       "  '现场',\n",
       "  '照片',\n",
       "  '事发',\n",
       "  '地点',\n",
       "  '位于',\n",
       "  '周水子',\n",
       "  '立交桥',\n",
       "  '沃尔玛',\n",
       "  '超市',\n",
       "  '华北',\n",
       "  '路',\n",
       "  '路段',\n",
       "  '一名',\n",
       "  '行人',\n",
       "  '躺倒',\n",
       "  '华北',\n",
       "  '路',\n",
       "  '伤情',\n",
       "  '不详',\n",
       "  '手中',\n",
       "  '提着',\n",
       "  '纸袋子',\n",
       "  '飞',\n",
       "  '数米',\n",
       "  '外',\n",
       "  '事故现场',\n",
       "  '马路',\n",
       "  '中央',\n",
       "  '人行横道',\n",
       "  '肇事',\n",
       "  '大客车',\n",
       "  '停',\n",
       "  '不远处',\n",
       "  '车头',\n",
       "  '撞击',\n",
       "  '破损',\n",
       "  '痕迹',\n",
       "  '目击者',\n",
       "  '称',\n",
       "  '撞',\n",
       "  '伤者',\n",
       "  '横穿马路',\n",
       "  '说法',\n",
       "  '未',\n",
       "  '交警部门',\n",
       "  '进一步',\n",
       "  '证实',\n",
       "  '居民',\n",
       "  '称',\n",
       "  '居民区',\n",
       "  '大型',\n",
       "  '商超',\n",
       "  '横穿马路',\n",
       "  '为数不少',\n",
       "  '事故现场',\n",
       "  '有人',\n",
       "  '车流',\n",
       "  '中',\n",
       "  '横穿马路',\n",
       "  '事故',\n",
       "  '原因',\n",
       "  '伤者',\n",
       "  '伤情',\n",
       "  '进一步',\n",
       "  '中'],\n",
       " 2]"
      ]
     },
     "execution_count": 19,
     "metadata": {},
     "output_type": "execute_result"
    }
   ],
   "source": [
    "results[299]"
   ]
  },
  {
   "cell_type": "code",
   "execution_count": null,
   "metadata": {},
   "outputs": [],
   "source": []
  }
 ],
 "metadata": {
  "kernelspec": {
   "display_name": "Python 3",
   "language": "python",
   "name": "python3"
  },
  "language_info": {
   "codemirror_mode": {
    "name": "ipython",
    "version": 3
   },
   "file_extension": ".py",
   "mimetype": "text/x-python",
   "name": "python",
   "nbconvert_exporter": "python",
   "pygments_lexer": "ipython3",
   "version": "3.7.3"
  }
 },
 "nbformat": 4,
 "nbformat_minor": 2
}
