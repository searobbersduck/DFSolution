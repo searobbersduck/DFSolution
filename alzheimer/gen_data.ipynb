{
 "cells": [
  {
   "cell_type": "code",
   "execution_count": 1,
   "metadata": {},
   "outputs": [],
   "source": [
    "import os\n",
    "import sys\n",
    "import h5py\n",
    "import numpy as np\n",
    "import pandas as pd\n",
    "import matplotlib\n",
    "import matplotlib.pyplot as plt\n",
    "%matplotlib inline"
   ]
  },
  {
   "cell_type": "code",
   "execution_count": 2,
   "metadata": {},
   "outputs": [
    {
     "data": {
      "text/plain": [
       "'/home/ubuntu/beast/code/DFSolution/alzheimer'"
      ]
     },
     "execution_count": 2,
     "metadata": {},
     "output_type": "execute_result"
    }
   ],
   "source": [
    "pwd"
   ]
  },
  {
   "cell_type": "code",
   "execution_count": 3,
   "metadata": {},
   "outputs": [],
   "source": [
    "train_csv = pd.read_csv('/data/beast/df/alzheimer/train.csv')\n",
    "val_csv = pd.read_csv('/data/beast/df/alzheimer/val.csv')"
   ]
  },
  {
   "cell_type": "code",
   "execution_count": 4,
   "metadata": {},
   "outputs": [
    {
     "data": {
      "text/plain": [
       "array([[<matplotlib.axes._subplots.AxesSubplot object at 0x7fc11c6ad208>,\n",
       "        <matplotlib.axes._subplots.AxesSubplot object at 0x7fc11a6747b8>],\n",
       "       [<matplotlib.axes._subplots.AxesSubplot object at 0x7fc11a61edd8>,\n",
       "        <matplotlib.axes._subplots.AxesSubplot object at 0x7fc11a5cd4a8>]],\n",
       "      dtype=object)"
      ]
     },
     "execution_count": 4,
     "metadata": {},
     "output_type": "execute_result"
    },
    {
     "data": {
      "image/png": "[encoded data removed]",
      "text/plain": [
       "<Figure size 432x288 with 4 Axes>"
      ]
     },
     "metadata": {
      "needs_background": "light"
     },
     "output_type": "display_data"
    }
   ],
   "source": [
    "train_csv.hist()"
   ]
  },
  {
   "cell_type": "code",
   "execution_count": 5,
   "metadata": {},
   "outputs": [
    {
     "data": {
      "text/plain": [
       "array([[<matplotlib.axes._subplots.AxesSubplot object at 0x7fc11a4fdd68>,\n",
       "        <matplotlib.axes._subplots.AxesSubplot object at 0x7fc11a4870b8>],\n",
       "       [<matplotlib.axes._subplots.AxesSubplot object at 0x7fc11a4ad630>,\n",
       "        <matplotlib.axes._subplots.AxesSubplot object at 0x7fc11a456c50>]],\n",
       "      dtype=object)"
      ]
     },
     "execution_count": 5,
     "metadata": {},
     "output_type": "execute_result"
    },
    {
     "data": {
      "image/png": "[encoded data removed]",
      "text/plain": [
       "<Figure size 432x288 with 4 Axes>"
      ]
     },
     "metadata": {
      "needs_background": "light"
     },
     "output_type": "display_data"
    }
   ],
   "source": [
    "val_csv.hist()"
   ]
  },
  {
   "cell_type": "code",
   "execution_count": 6,
   "metadata": {},
   "outputs": [],
   "source": [
    "t2_num = train_csv[train_csv['label']==2]['label'].count()\n",
    "t1_num = train_csv[train_csv['label']==1]['label'].count()\n",
    "t0_num = train_csv[train_csv['label']==0]['label'].count()\n",
    "v2_num = val_csv[val_csv['label']==2]['label'].count()\n",
    "v1_num = val_csv[val_csv['label']==1]['label'].count()\n",
    "v0_num = val_csv[val_csv['label']==0]['label'].count()"
   ]
  },
  {
   "cell_type": "code",
   "execution_count": 7,
   "metadata": {},
   "outputs": [
    {
     "name": "stdout",
     "output_type": "stream",
     "text": [
      "train label 0 count:\t7, percent:\t0.026\n",
      "train label 1 count:\t15, percent:\t0.056\n",
      "train label 2 count:\t8, percent:\t0.030\n",
      "\n",
      "val label 0 count:\t7, percent:\t0.233\n",
      "val label 1 count:\t15, percent:\t0.500\n",
      "val label 2 count:\t8, percent:\t0.267\n"
     ]
    }
   ],
   "source": [
    "print('train label 0 count:\\t{}, percent:\\t{:.3f}'.format(t0_num, t0_num/270))\n",
    "print('train label 1 count:\\t{}, percent:\\t{:.3f}'.format(t1_num, t1_num/270))\n",
    "print('train label 2 count:\\t{}, percent:\\t{:.3f}'.format(t2_num, t2_num/270))\n",
    "print()\n",
    "print('val label 0 count:\\t{}, percent:\\t{:.3f}'.format(v0_num, v0_num/30))\n",
    "print('val label 1 count:\\t{}, percent:\\t{:.3f}'.format(v1_num, v1_num/30))\n",
    "print('val label 2 count:\\t{}, percent:\\t{:.3f}'.format(v2_num, v2_num/30))"
   ]
  },
  {
   "cell_type": "code",
   "execution_count": 8,
   "metadata": {},
   "outputs": [
    {
     "data": {
      "text/plain": [
       "8"
      ]
     },
     "execution_count": 8,
     "metadata": {},
     "output_type": "execute_result"
    }
   ],
   "source": [
    "t2_num"
   ]
  },
  {
   "cell_type": "code",
   "execution_count": 9,
   "metadata": {},
   "outputs": [],
   "source": [
    "all_csv = pd.read_csv('/data/beast/df/alzheimer/train_pre_label.csv')"
   ]
  },
  {
   "cell_type": "code",
   "execution_count": 10,
   "metadata": {},
   "outputs": [
    {
     "name": "stdout",
     "output_type": "stream",
     "text": [
      "all label 0 count:\t68, percent:\t0.227\n",
      "all label 1 count:\t151, percent:\t0.503\n",
      "all label 2 count:\t81, percent:\t0.270\n"
     ]
    }
   ],
   "source": [
    "a2_num = all_csv[all_csv['label']==2]['label'].count()\n",
    "a1_num = all_csv[all_csv['label']==1]['label'].count()\n",
    "a0_num = all_csv[all_csv['label']==0]['label'].count()\n",
    "print('all label 0 count:\\t{}, percent:\\t{:.3f}'.format(a0_num, a0_num/300))\n",
    "print('all label 1 count:\\t{}, percent:\\t{:.3f}'.format(a1_num, a1_num/300))\n",
    "print('all label 2 count:\\t{}, percent:\\t{:.3f}'.format(a2_num, a2_num/300))"
   ]
  },
  {
   "cell_type": "code",
   "execution_count": 11,
   "metadata": {},
   "outputs": [],
   "source": [
    "all_index0 = all_csv[all_csv['label']==0].index\n",
    "all_index1 = all_csv[all_csv['label']==1].index\n",
    "all_index2 = all_csv[all_csv['label']==2].index"
   ]
  },
  {
   "cell_type": "code",
   "execution_count": 12,
   "metadata": {},
   "outputs": [
    {
     "data": {
      "text/plain": [
       "Int64Index([11, 67, 71, 97, 99, 108, 118, 138, 139, 140, 172, 214, 236, 245], dtype='int64')"
      ]
     },
     "execution_count": 12,
     "metadata": {},
     "output_type": "execute_result"
    }
   ],
   "source": [
    "shuffle_id_0 = [i for i in range(len(all_index0))]\n",
    "np.random.shuffle(shuffle_id_0)\n",
    "shuffle_id_00 = shuffle_id_0[:14]\n",
    "shuffle_id_00.sort()\n",
    "shuffle_id_00\n",
    "all_index0[shuffle_id_00]\n",
    "# all_index0 = np.array(all_index0)\n",
    "# all_index1 = np.array(all_index1)\n",
    "# all_index2 = np.array(all_index2)"
   ]
  },
  {
   "cell_type": "code",
   "execution_count": 13,
   "metadata": {},
   "outputs": [],
   "source": [
    "file = h5py.File('/data/beast/df/alzheimer/train_pre_data.h5')"
   ]
  },
  {
   "cell_type": "code",
   "execution_count": 14,
   "metadata": {},
   "outputs": [
    {
     "data": {
      "text/plain": [
       "[1, 2]"
      ]
     },
     "execution_count": 14,
     "metadata": {},
     "output_type": "execute_result"
    }
   ],
   "source": [
    "list(all_index0[:2])"
   ]
  },
  {
   "cell_type": "code",
   "execution_count": 15,
   "metadata": {},
   "outputs": [],
   "source": [
    "len(all_csv.loc[all_index0])\n",
    "all_csv.loc[all_index1]\n",
    "a = pd.concat([all_csv.loc[all_index0], all_csv.loc[all_index1]])"
   ]
  },
  {
   "cell_type": "code",
   "execution_count": 16,
   "metadata": {},
   "outputs": [],
   "source": [
    "val_index0 = all_index0[:7]\n",
    "train_index0 = all_index0[7:]\n",
    "\n",
    "val_index1 = all_index1[:15]\n",
    "train_index1 = all_index1[15:]\n",
    "\n",
    "val_index2 = all_index2[:8]\n",
    "train_index2 = all_index2[8:]\n",
    "\n",
    "# train_index = pd.concat([train_index0, train_index1, train_index2])\n",
    "# val_index = pd.concat([val_index0, val_index1, val_index2])\n",
    "train_index = train_index0.append(train_index1)\n",
    "train_index = train_index.append(train_index2)\n",
    "val_index = val_index0.append(val_index1)\n",
    "val_index = val_index.append(val_index2)\n",
    "\n",
    "train_index = train_index.sort_values()\n",
    "val_index = val_index.sort_values()\n",
    "\n",
    "train_csv = all_csv.loc[train_index]\n",
    "val_csv = all_csv.loc[val_index]"
   ]
  },
  {
   "cell_type": "code",
   "execution_count": 17,
   "metadata": {},
   "outputs": [],
   "source": [
    "train_index_np = np.array(train_index)\n",
    "val_index_np = np.array(val_index)"
   ]
  },
  {
   "cell_type": "code",
   "execution_count": 18,
   "metadata": {},
   "outputs": [],
   "source": [
    "train_csv.to_csv('/data/beast/df/alzheimer/train.csv')\n",
    "val_csv.to_csv('/data/beast/df/alzheimer/val.csv')"
   ]
  },
  {
   "cell_type": "code",
   "execution_count": 19,
   "metadata": {},
   "outputs": [],
   "source": [
    "train_hf = h5py.File('/data/beast/df/alzheimer/train.h5', 'w')\n",
    "val_hf = h5py.File('/data/beast/df/alzheimer/val.h5', 'w')\n",
    "train_hf.create_dataset('data', data=file['data'][list(train_index_np)])\n",
    "val_hf.create_dataset('data', data=file['data'][list(val_index_np)])\n",
    "train_hf.close()\n",
    "val_hf.close()"
   ]
  },
  {
   "cell_type": "code",
   "execution_count": 20,
   "metadata": {},
   "outputs": [
    {
     "data": {
      "text/plain": [
       "array([ 27,  30,  31,  33,  34,  35,  36,  37,  38,  39,  40,  41,  42,\n",
       "        43,  44,  45,  46,  47,  48,  49,  50,  51,  52,  53,  54,  55,\n",
       "        56,  57,  58,  59,  60,  61,  62,  63,  64,  65,  66,  67,  68,\n",
       "        69,  70,  71,  72,  73,  74,  75,  76,  77,  78,  79,  80,  81,\n",
       "        82,  83,  84,  85,  86,  87,  88,  89,  90,  91,  92,  93,  94,\n",
       "        95,  96,  97,  98,  99, 100, 101, 102, 103, 104, 105, 106, 107,\n",
       "       108, 109, 110, 111, 112, 113, 114, 115, 116, 117, 118, 119, 120,\n",
       "       121, 122, 123, 124, 125, 126, 127, 128, 129, 130, 131, 132, 133,\n",
       "       134, 135, 136, 137, 138, 139, 140, 141, 142, 143, 144, 145, 146,\n",
       "       147, 148, 149, 150, 151, 152, 153, 154, 155, 156, 157, 158, 159,\n",
       "       160, 161, 162, 163, 164, 165, 166, 167, 168, 169, 170, 171, 172,\n",
       "       173, 174, 175, 176, 177, 178, 179, 180, 181, 182, 183, 184, 185,\n",
       "       186, 187, 188, 189, 190, 191, 192, 193, 194, 195, 196, 197, 198,\n",
       "       199, 200, 201, 202, 203, 204, 205, 206, 207, 208, 209, 210, 211,\n",
       "       212, 213, 214, 215, 216, 217, 218, 219, 220, 221, 222, 223, 224,\n",
       "       225, 226, 227, 228, 229, 230, 231, 232, 233, 234, 235, 236, 237,\n",
       "       238, 239, 240, 241, 242, 243, 244, 245, 246, 247, 248, 249, 250,\n",
       "       251, 252, 253, 254, 255, 256, 257, 258, 259, 260, 261, 262, 263,\n",
       "       264, 265, 266, 267, 268, 269, 270, 271, 272, 273, 274, 275, 276,\n",
       "       277, 278, 279, 280, 281, 282, 283, 284, 285, 286, 287, 288, 289,\n",
       "       290, 291, 292, 293, 294, 295, 296, 297, 298, 299])"
      ]
     },
     "execution_count": 20,
     "metadata": {},
     "output_type": "execute_result"
    }
   ],
   "source": [
    "file.close()\n",
    "train_index_np"
   ]
  },
  {
   "cell_type": "code",
   "execution_count": 21,
   "metadata": {},
   "outputs": [],
   "source": [
    "# list(train_index_np)\n",
    "# file['data'][list(train_index_np)]"
   ]
  },
  {
   "cell_type": "code",
   "execution_count": 22,
   "metadata": {},
   "outputs": [],
   "source": [
    "val_index\n",
    "val_csv.to_csv('/data/beast/df/alzheimer/train.csv')"
   ]
  },
  {
   "cell_type": "code",
   "execution_count": 23,
   "metadata": {},
   "outputs": [],
   "source": [
    "def gen_data(i):\n",
    "    file = h5py.File('/data/beast/df/alzheimer/train_pre_data.h5')\n",
    "    all_csv = pd.read_csv('/data/beast/df/alzheimer/train_pre_label.csv')\n",
    "    all_index0 = all_csv[all_csv['label']==0].index\n",
    "    all_index1 = all_csv[all_csv['label']==1].index\n",
    "    all_index2 = all_csv[all_csv['label']==2].index\n",
    "    \n",
    "    shuffle_id_0 = [i for i in range(len(all_index0))]\n",
    "    np.random.shuffle(shuffle_id_0)\n",
    "    shuffle_id_00 = shuffle_id_0[:7]\n",
    "    shuffle_id_00.sort()\n",
    "    shuffle_id_01 = shuffle_id_0[7:]\n",
    "    shuffle_id_01.sort()\n",
    "    val_index0 = all_index0[shuffle_id_00]\n",
    "    train_index0 = all_index0[shuffle_id_01]\n",
    "\n",
    "    shuffle_id_1 = [i for i in range(len(all_index1))]\n",
    "    np.random.shuffle(shuffle_id_1)\n",
    "    shuffle_id_10 = shuffle_id_1[:15]\n",
    "    shuffle_id_10.sort()\n",
    "    shuffle_id_11 = shuffle_id_1[15:]\n",
    "    shuffle_id_11.sort()\n",
    "    val_index1 = all_index1[shuffle_id_10]\n",
    "    train_index1 = all_index1[shuffle_id_11]\n",
    "\n",
    "    shuffle_id_2 = [i for i in range(len(all_index2))]\n",
    "    np.random.shuffle(shuffle_id_2)\n",
    "    shuffle_id_20 = shuffle_id_2[:8]\n",
    "    shuffle_id_20.sort()\n",
    "    shuffle_id_21 = shuffle_id_2[8:]\n",
    "    shuffle_id_21.sort()\n",
    "    val_index2 = all_index2[shuffle_id_20]\n",
    "    train_index2 = all_index2[shuffle_id_21]\n",
    "\n",
    "    # train_index = pd.concat([train_index0, train_index1, train_index2])\n",
    "    # val_index = pd.concat([val_index0, val_index1, val_index2])\n",
    "    train_index = train_index0.append(train_index1)\n",
    "    train_index = train_index.append(train_index2)\n",
    "    val_index = val_index0.append(val_index1)\n",
    "    val_index = val_index.append(val_index2)\n",
    "\n",
    "    train_index = train_index.sort_values()\n",
    "    val_index = val_index.sort_values()\n",
    "\n",
    "    train_csv = all_csv.loc[train_index]\n",
    "    val_csv = all_csv.loc[val_index]\n",
    "\n",
    "    train_index_np = np.array(train_index)\n",
    "    val_index_np = np.array(val_index)\n",
    "\n",
    "    train_csv.to_csv('/data/beast/df/alzheimer/train_{}.csv'.format(i))\n",
    "    val_csv.to_csv('/data/beast/df/alzheimer/val_{}.csv'.format(i))\n",
    "\n",
    "    train_hf = h5py.File('/data/beast/df/alzheimer/train_{}.h5'.format(i), 'w')\n",
    "    val_hf = h5py.File('/data/beast/df/alzheimer/val_{}.h5'.format(i), 'w')\n",
    "    train_hf.create_dataset('data', data=file['data'][list(train_index_np)])\n",
    "    val_hf.create_dataset('data', data=file['data'][list(val_index_np)])\n",
    "    train_hf.close()\n",
    "    val_hf.close()\n",
    "    file.close()"
   ]
  },
  {
   "cell_type": "code",
   "execution_count": 24,
   "metadata": {},
   "outputs": [],
   "source": [
    "for i in range(5):\n",
    "    gen_data(i)"
   ]
  },
  {
   "cell_type": "code",
   "execution_count": 25,
   "metadata": {},
   "outputs": [
    {
     "data": {
      "text/plain": [
       "<KeysViewHDF5 ['data']>"
      ]
     },
     "execution_count": 25,
     "metadata": {},
     "output_type": "execute_result"
    }
   ],
   "source": [
    "x = h5py.File('/data/beast/df/alzheimer/train_0.h5')\n",
    "x.keys()"
   ]
  },
  {
   "cell_type": "code",
   "execution_count": 26,
   "metadata": {},
   "outputs": [],
   "source": [
    "x['data']\n",
    "x.close()"
   ]
  },
  {
   "cell_type": "code",
   "execution_count": 27,
   "metadata": {},
   "outputs": [
    {
     "data": {
      "text/plain": [
       "14"
      ]
     },
     "execution_count": 27,
     "metadata": {},
     "output_type": "execute_result"
    }
   ],
   "source": [
    "len(shuffle_id_00)"
   ]
  },
  {
   "cell_type": "code",
   "execution_count": null,
   "metadata": {},
   "outputs": [],
   "source": []
  }
 ],
 "metadata": {
  "kernelspec": {
   "display_name": "Python 3",
   "language": "python",
   "name": "python3"
  },
  "language_info": {
   "codemirror_mode": {
    "name": "ipython",
    "version": 3
   },
   "file_extension": ".py",
   "mimetype": "text/x-python",
   "name": "python",
   "nbconvert_exporter": "python",
   "pygments_lexer": "ipython3",
   "version": "3.6.7"
  }
 },
 "nbformat": 4,
 "nbformat_minor": 2
}
