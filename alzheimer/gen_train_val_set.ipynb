{
 "cells": [
  {
   "cell_type": "code",
   "execution_count": 17,
   "metadata": {},
   "outputs": [],
   "source": [
    "import utils\n",
    "import numpy as np"
   ]
  },
  {
   "cell_type": "code",
   "execution_count": 18,
   "metadata": {},
   "outputs": [],
   "source": [
    "a = np.random.randint(0,3,30)\n",
    "b = a.copy()"
   ]
  },
  {
   "cell_type": "code",
   "execution_count": 19,
   "metadata": {},
   "outputs": [
    {
     "data": {
      "text/plain": [
       "1.0"
      ]
     },
     "execution_count": 19,
     "metadata": {},
     "output_type": "execute_result"
    }
   ],
   "source": [
    "utils.quadratic_weighted_kappa(a,b)"
   ]
  },
  {
   "cell_type": "code",
   "execution_count": 29,
   "metadata": {},
   "outputs": [
    {
     "name": "stdout",
     "output_type": "stream",
     "text": [
      "1\n",
      "1\n",
      "0.42399999999999993\n",
      "0.8\n"
     ]
    }
   ],
   "source": [
    "b = a.copy()\n",
    "b[2] = 2\n",
    "b[3] = 2\n",
    "b[4] = 0\n",
    "b[6] = 0\n",
    "b[7] = 0\n",
    "b[8] = 0\n",
    "print(b[10])\n",
    "print(a[10])\n",
    "print(utils.quadratic_weighted_kappa(a,b))\n",
    "print(np.sum(a==b)/len(a))"
   ]
  },
  {
   "cell_type": "code",
   "execution_count": 30,
   "metadata": {},
   "outputs": [
    {
     "name": "stdout",
     "output_type": "stream",
     "text": [
      "[False False False False  True False  True  True  True  True False False\n",
      "  True False False False  True  True  True False False  True False False\n",
      " False  True False False  True  True]\n",
      "[2 2 0 0 2 1 2 2 2 0 1 2 0 1 1 1 0 0 0 2 1 0 2 2 1 0 1 1 0 0]\n"
     ]
    }
   ],
   "source": [
    "print(b == 0)\n",
    "print(a)"
   ]
  },
  {
   "cell_type": "code",
   "execution_count": 6,
   "metadata": {},
   "outputs": [],
   "source": [
    "import torch"
   ]
  },
  {
   "cell_type": "code",
   "execution_count": 7,
   "metadata": {},
   "outputs": [],
   "source": [
    "a = 0.3"
   ]
  },
  {
   "cell_type": "code",
   "execution_count": 14,
   "metadata": {},
   "outputs": [
    {
     "data": {
      "text/plain": [
       "tensor([0.3000], device='cuda:0', dtype=torch.float64, requires_grad=True)"
      ]
     },
     "execution_count": 14,
     "metadata": {},
     "output_type": "execute_result"
    }
   ],
   "source": [
    "torch.autograd.Variable(torch.from_numpy(np.array([a],dtype=float)).cuda(), requires_grad=True)"
   ]
  },
  {
   "cell_type": "code",
   "execution_count": 10,
   "metadata": {},
   "outputs": [],
   "source": [
    "import torch"
   ]
  },
  {
   "cell_type": "code",
   "execution_count": 11,
   "metadata": {},
   "outputs": [],
   "source": [
    "import torch.nn"
   ]
  },
  {
   "cell_type": "code",
   "execution_count": 43,
   "metadata": {},
   "outputs": [
    {
     "name": "stdout",
     "output_type": "stream",
     "text": [
      "0.04176904176904184\n",
      "0.041769041769041726\n"
     ]
    }
   ],
   "source": [
    "a = [1,1,2,1,1,1,2,1,2,2,2,1,1,1,1,1,1,2,2,1,2,2,2,1,2,1,2,1,2,1]\n",
    "b = [1,1,0,1,1,1,2,1,2,2,0,1,1,0,1,1,1,2,0,2,2,2,0,1,0,1,2,1,0,1]\n",
    "print(utils.quadratic_weighted_kappa(a,b, 0, 2))\n",
    "print(utils.quadratic_weighted_kappa(b,a, 0, 2))"
   ]
  },
  {
   "cell_type": "code",
   "execution_count": 38,
   "metadata": {},
   "outputs": [],
   "source": [
    "?utils.quadratic_weighted_kappa"
   ]
  },
  {
   "cell_type": "code",
   "execution_count": 45,
   "metadata": {},
   "outputs": [],
   "source": [
    "?torch.nn.CrossEntropyLoss"
   ]
  },
  {
   "cell_type": "code",
   "execution_count": 47,
   "metadata": {},
   "outputs": [
    {
     "data": {
      "text/plain": [
       "CrossEntropyLoss()"
      ]
     },
     "execution_count": 47,
     "metadata": {},
     "output_type": "execute_result"
    }
   ],
   "source": [
    "torch.nn.CrossEntropyLoss(weight=torch.from_numpy(np.array([1,2])))"
   ]
  },
  {
   "cell_type": "code",
   "execution_count": null,
   "metadata": {},
   "outputs": [],
   "source": []
  }
 ],
 "metadata": {
  "kernelspec": {
   "display_name": "Python 3",
   "language": "python",
   "name": "python3"
  },
  "language_info": {
   "codemirror_mode": {
    "name": "ipython",
    "version": 3
   },
   "file_extension": ".py",
   "mimetype": "text/x-python",
   "name": "python",
   "nbconvert_exporter": "python",
   "pygments_lexer": "ipython3",
   "version": "3.6.7"
  }
 },
 "nbformat": 4,
 "nbformat_minor": 2
}
